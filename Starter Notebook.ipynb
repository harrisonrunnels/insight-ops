{
 "cells": [
  {
   "cell_type": "code",
   "execution_count": null,
   "id": "a171868e",
   "metadata": {},
   "outputs": [],
   "source": [
    "!pip install boto3 botocore pandas\n",
    "!pip install openai\n",
    "!pip install networkx\n",
    "!pip install matplotlib\n",
    "!pip install matplotlib.pyplot"
   ]
  },
  {
   "cell_type": "code",
   "execution_count": 2,
   "id": "687fe590",
   "metadata": {},
   "outputs": [
    {
     "name": "stdout",
     "output_type": "stream",
     "text": [
      "                                     id                 time  \\\n",
      "0  0007ed21-eb78-597d-9558-9dfa4f75ed3e  2024-03-31 18:19:25   \n",
      "1  0009a799-5b15-5468-98df-9e948518c786  2024-03-31 07:00:20   \n",
      "2  000fea05-105e-589a-ad1e-9901e6594e86  2024-03-31 09:04:00   \n",
      "3  0012d254-46b1-5d52-ad6e-b6a8bf7b8fc7  2024-03-31 06:22:18   \n",
      "4  00194b54-be02-5a6d-a961-b9be56f22a54  2024-03-31 17:36:03   \n",
      "\n",
      "                                                body  \\\n",
      "0  https://youtu.be/1H65fWYoaV8?si=sFwduH6AodNglB...   \n",
      "1  🇷🇺🇺🇦Последствия обстрела жилых домой Белгорода...   \n",
      "2  \"ТАРЕЛОЧКИ\" У НАС.\\nДорогие подписчики! Делимс...   \n",
      "3  На Камчатке в соединении кораблей охраны водно...   \n",
      "4  Как устраняли предателя КузьминоваТрусливого п...   \n",
      "\n",
      "                                         translation  \\\n",
      "0  https://youtu.be/1H65fWYoaV8?si=sFwduH6AodNglB...   \n",
      "1  🇷🇺🇺🇦The consequences of shelling of residentia...   \n",
      "2  WE HAVE \"PLATES\".\\nDear subscribers! We share ...   \n",
      "3  In Kamchatka, a formation of ships guarding th...   \n",
      "4  How the traitor Kuzminov was eliminated. The c...   \n",
      "\n",
      "                        external_url profile_type  \\\n",
      "0           https://t.me/openukraine     telegram   \n",
      "1  https://t.me/warhistoryalconafter     telegram   \n",
      "2     https://vk.com/public216233091           vk   \n",
      "3          https://t.me/navyofrussia     telegram   \n",
      "4                https://t.me/swodki     telegram   \n",
      "\n",
      "                                         description  \\\n",
      "0  A Telegram channel aggressively spreading Ukra...   \n",
      "1     The Telegram channel of a Russian mil-blogger.   \n",
      "2  Russian volunteer support group for war effort...   \n",
      "3  A Telegram channel affiliated with the Russian...   \n",
      "4  A generic Telegram account that echoes Kremlin...   \n",
      "\n",
      "                                                name  \\\n",
      "0                                        OpenUkraine   \n",
      "1                               warhistoryalconafter   \n",
      "2  Assistance to the Military at the Northern Mil...   \n",
      "3                                       NavyOfRussia   \n",
      "4                                             swodki   \n",
      "\n",
      "                                     attachment_urls  \n",
      "0  media/telegram-web/157cfb52-f4b1-407c-ad3f-6a3...  \n",
      "1  media/telegram-web/0020f774-680c-4453-b17b-a5e...  \n",
      "2  media/vk/40a8eec7-913a-4bed-9ce7-d59ee5d02093....  \n",
      "3  media/telegram-web/b108cbdf-83ef-4a9f-8027-a39...  \n",
      "4  media/telegram-web/77af5086-db38-470b-9880-0ee...  \n"
     ]
    }
   ],
   "source": [
    "import boto3\n",
    "import pandas as pd\n",
    "from io import BytesIO\n",
    "from botocore import UNSIGNED\n",
    "from botocore.config import Config\n",
    "import os\n",
    "\n",
    "#add_key_here\n",
    "api_key=\"\"\n",
    "\n",
    "# Load the file content into a pandas DataFrame\n",
    "df_sm = pd.read_csv('russia_social_media.csv')\n",
    "\n",
    "print(df_sm.head())"
   ]
  },
  {
   "cell_type": "markdown",
   "id": "ec23d44e",
   "metadata": {},
   "source": [
    "# Filter Data On Date"
   ]
  },
  {
   "cell_type": "code",
   "execution_count": 3,
   "id": "270f09a3",
   "metadata": {},
   "outputs": [],
   "source": [
    "from datetime import datetime\n",
    "from datetime import timedelta\n",
    "\n",
    "\n",
    "# Convert the 'DateTime' column to datetime\n",
    "df_sm[\"time\"] = pd.to_datetime(df_sm[\"time\"])\n",
    "\n",
    "def generate_range(start_time, frame):\n",
    "    dtStart = datetime.strptime(start_time, '%Y-%m-%d %H:%M:%S')\n",
    "    dtDiff = timedelta(hours=frame[0], minutes=frame[1])\n",
    "    dest = dtStart + dtDiff\n",
    "    return [start_time, dest.strftime('%Y-%m-%d %H:%M:%S')]\n",
    "\n",
    "time_range = generate_range(\"2024-03-31 18:00:00\", [1,30])\n",
    "\n",
    "# Filter the DataFrame based on the defined times\n",
    "filtered_df = df_sm[(df_sm[\"time\"] >= time_range[0]) & (df_sm[\"time\"] <= time_range[1])]\n",
    "indexes_filtered_df = filtered_df[\"translation\"].index"
   ]
  },
  {
   "cell_type": "markdown",
   "id": "74a0085c",
   "metadata": {},
   "source": [
    "# LLM to Process Data"
   ]
  },
  {
   "cell_type": "code",
   "execution_count": 14,
   "id": "6e1adce6",
   "metadata": {},
   "outputs": [
    {
     "data": {
      "text/plain": [
       "{'nodes': [['Oles Buzina', 'Person', {'source': 'social media'}],\n",
       "  ['Vladimir Zhirinovsky', 'Person', {'source': 'social media'}],\n",
       "  ['Vladimir Solovyov', 'Person', {'source': 'social media'}],\n",
       "  ['Duel', 'Event', {'source': 'social media'}],\n",
       "  ['socio-political topics', 'Topic', {'source': 'social media'}]],\n",
       " 'edges': [['Oles Buzina', 'PARTICIPATED_IN', 'Duel', {'role': 'Debater'}],\n",
       "  ['Vladimir Zhirinovsky', 'PARTICIPATED_IN', 'Duel', {'role': 'Debater'}],\n",
       "  ['Vladimir Solovyov', 'CREATED', 'Duel', {'role': 'Host'}],\n",
       "  ['Duel', 'DISCUSSED', 'socio-political topics', {}]]}"
      ]
     },
     "execution_count": 14,
     "metadata": {},
     "output_type": "execute_result"
    }
   ],
   "source": [
    "from openai import OpenAI\n",
    "import json\n",
    "\n",
    "# Initialize the OpenAI client with your custom API base URL and API key\n",
    "client = OpenAI(\n",
    "    base_url=\"https://hackathon.radiantai.com/insight-ops/openai\",\n",
    "    api_key=api_key\n",
    ")\n",
    "\n",
    "# Define the text of a social media post\n",
    "post = filtered_df['translation'][indexes_filtered_df[0]]\n",
    "\n",
    "\n",
    "system_prompt = \"\"\"You are a helpful assistant designed to output JSON.\n",
    "Your task is to extract information from social media posts and convert it into a graph database.\n",
    "Provide a set of Nodes in the form [ENTITY_ID, TYPE, PROPERTIES] and a set of relationships in the form [ENTITY_ID_1, RELATIONSHIP, ENTITY_ID_2, PROPERTIES].\n",
    "It is important that the ENTITY_ID_1 and ENTITY_ID_2 exists as nodes with a matching ENTITY_ID.\n",
    "If you can't pair a relationship with a pair of nodes don't add it.\n",
    "When you find a node or relationship you want to add try to create a generic TYPE for it that  describes the entity you can also think of it as a label.\"\"\"\n",
    "\n",
    "def analyze(post):\n",
    "    response = client.chat.completions.create(\n",
    "      model=\"gpt-3.5-turbo-0125\",\n",
    "      response_format={ \"type\": \"json_object\" },\n",
    "      messages=[\n",
    "        {\"role\": \"system\", \"content\": system_prompt},\n",
    "        {\"role\": \"user\", \"content\": f\"Here's the post: {post} \\n Make sure to output in a JSON with the top level keys 'nodes' and 'edges'\"}\n",
    "      ]\n",
    "    )\n",
    "\n",
    "    return response.choices[0].message.content\n",
    "\n",
    "data = json.loads(analyze(post))\n",
    "data"
   ]
  },
  {
   "cell_type": "markdown",
   "id": "3b7bd69e",
   "metadata": {},
   "source": [
    "# Construction of the Graph"
   ]
  },
  {
   "cell_type": "code",
   "execution_count": 15,
   "id": "d14fb10f",
   "metadata": {},
   "outputs": [
    {
     "name": "stdout",
     "output_type": "stream",
     "text": [
      "Nodes in the graph:\n",
      "[('Oles Buzina', {'source': 'social media', 'type': 'Person'}), ('Vladimir Zhirinovsky', {'source': 'social media', 'type': 'Person'}), ('Vladimir Solovyov', {'source': 'social media', 'type': 'Person'}), ('Duel', {'source': 'social media', 'type': 'Event'}), ('socio-political topics', {'source': 'social media', 'type': 'Topic'})]\n",
      "Edges in the graph:\n",
      "[('Oles Buzina', 'Duel', {'relation': 'PARTICIPATED_IN'}), ('Vladimir Zhirinovsky', 'Duel', {'relation': 'PARTICIPATED_IN'}), ('Vladimir Solovyov', 'Duel', {'relation': 'CREATED'}), ('Duel', 'socio-political topics', {'relation': 'DISCUSSED'})]\n"
     ]
    }
   ],
   "source": [
    "import networkx as nx\n",
    "# Create a directed graph\n",
    "G = nx.DiGraph()\n",
    "\n",
    "\n",
    "# Add nodes\n",
    "for node in data['nodes']:\n",
    "    node_id = node[0]\n",
    "    node_type = node[1]\n",
    "    attributes = node[2]\n",
    "    attributes['type'] = node_type  # Add the type as an attribute\n",
    "    G.add_node(node_id, **attributes)\n",
    "\n",
    "# Add edges\n",
    "for edge in data['edges']:\n",
    "    source = edge[0]\n",
    "    relation = edge[1]\n",
    "    target = edge[2]\n",
    "    # Add the relation type as an attribute\n",
    "    G.add_edge(source, target,relation = relation)\n",
    "\n",
    "# Display the graph\n",
    "print(\"Nodes in the graph:\")\n",
    "print(G.nodes(data=True))\n",
    "\n",
    "print(\"Edges in the graph:\")\n",
    "print(G.edges(data=True))"
   ]
  },
  {
   "cell_type": "code",
   "execution_count": 13,
   "id": "eaf8297a",
   "metadata": {},
   "outputs": [
    {
     "data": {
      "text/plain": [
       "['Vladimir Solovyov', 'Person', None]"
      ]
     },
     "execution_count": 13,
     "metadata": {},
     "output_type": "execute_result"
    }
   ],
   "source": []
  },
  {
   "cell_type": "markdown",
   "id": "670ce5db",
   "metadata": {},
   "source": [
    "# Viz"
   ]
  },
  {
   "cell_type": "code",
   "execution_count": 16,
   "id": "a1ae8e4e",
   "metadata": {},
   "outputs": [
    {
     "ename": "KeyError",
     "evalue": "'name'",
     "output_type": "error",
     "traceback": [
      "\u001b[0;31m---------------------------------------------------------------------------\u001b[0m",
      "\u001b[0;31mKeyError\u001b[0m                                  Traceback (most recent call last)",
      "\u001b[0;32m/var/folders/wf/y1522b3s6nx4g2wmkg1d1lv00000gn/T/ipykernel_3246/3236401976.py\u001b[0m in \u001b[0;36m<module>\u001b[0;34m\u001b[0m\n\u001b[1;32m     11\u001b[0m \u001b[0;34m\u001b[0m\u001b[0m\n\u001b[1;32m     12\u001b[0m \u001b[0;31m# Node labels\u001b[0m\u001b[0;34m\u001b[0m\u001b[0;34m\u001b[0m\u001b[0m\n\u001b[0;32m---> 13\u001b[0;31m \u001b[0mnode_labels\u001b[0m \u001b[0;34m=\u001b[0m \u001b[0;34m{\u001b[0m\u001b[0mnode\u001b[0m\u001b[0;34m[\u001b[0m\u001b[0;36m0\u001b[0m\u001b[0;34m]\u001b[0m\u001b[0;34m:\u001b[0m \u001b[0mnode\u001b[0m\u001b[0;34m[\u001b[0m\u001b[0;36m2\u001b[0m\u001b[0;34m]\u001b[0m\u001b[0;34m[\u001b[0m\u001b[0;34m'name'\u001b[0m\u001b[0;34m]\u001b[0m \u001b[0;32mfor\u001b[0m \u001b[0mnode\u001b[0m \u001b[0;32min\u001b[0m \u001b[0mdata\u001b[0m\u001b[0;34m[\u001b[0m\u001b[0;34m'nodes'\u001b[0m\u001b[0;34m]\u001b[0m\u001b[0;34m}\u001b[0m\u001b[0;34m\u001b[0m\u001b[0;34m\u001b[0m\u001b[0m\n\u001b[0m\u001b[1;32m     14\u001b[0m \u001b[0mnx\u001b[0m\u001b[0;34m.\u001b[0m\u001b[0mdraw_networkx_labels\u001b[0m\u001b[0;34m(\u001b[0m\u001b[0mG\u001b[0m\u001b[0;34m,\u001b[0m \u001b[0mpos\u001b[0m\u001b[0;34m,\u001b[0m \u001b[0mlabels\u001b[0m\u001b[0;34m=\u001b[0m\u001b[0mnode_labels\u001b[0m\u001b[0;34m,\u001b[0m \u001b[0mfont_size\u001b[0m\u001b[0;34m=\u001b[0m\u001b[0;36m12\u001b[0m\u001b[0;34m)\u001b[0m\u001b[0;34m\u001b[0m\u001b[0;34m\u001b[0m\u001b[0m\n\u001b[1;32m     15\u001b[0m \u001b[0;34m\u001b[0m\u001b[0m\n",
      "\u001b[0;32m/var/folders/wf/y1522b3s6nx4g2wmkg1d1lv00000gn/T/ipykernel_3246/3236401976.py\u001b[0m in \u001b[0;36m<dictcomp>\u001b[0;34m(.0)\u001b[0m\n\u001b[1;32m     11\u001b[0m \u001b[0;34m\u001b[0m\u001b[0m\n\u001b[1;32m     12\u001b[0m \u001b[0;31m# Node labels\u001b[0m\u001b[0;34m\u001b[0m\u001b[0;34m\u001b[0m\u001b[0m\n\u001b[0;32m---> 13\u001b[0;31m \u001b[0mnode_labels\u001b[0m \u001b[0;34m=\u001b[0m \u001b[0;34m{\u001b[0m\u001b[0mnode\u001b[0m\u001b[0;34m[\u001b[0m\u001b[0;36m0\u001b[0m\u001b[0;34m]\u001b[0m\u001b[0;34m:\u001b[0m \u001b[0mnode\u001b[0m\u001b[0;34m[\u001b[0m\u001b[0;36m2\u001b[0m\u001b[0;34m]\u001b[0m\u001b[0;34m[\u001b[0m\u001b[0;34m'name'\u001b[0m\u001b[0;34m]\u001b[0m \u001b[0;32mfor\u001b[0m \u001b[0mnode\u001b[0m \u001b[0;32min\u001b[0m \u001b[0mdata\u001b[0m\u001b[0;34m[\u001b[0m\u001b[0;34m'nodes'\u001b[0m\u001b[0;34m]\u001b[0m\u001b[0;34m}\u001b[0m\u001b[0;34m\u001b[0m\u001b[0;34m\u001b[0m\u001b[0m\n\u001b[0m\u001b[1;32m     14\u001b[0m \u001b[0mnx\u001b[0m\u001b[0;34m.\u001b[0m\u001b[0mdraw_networkx_labels\u001b[0m\u001b[0;34m(\u001b[0m\u001b[0mG\u001b[0m\u001b[0;34m,\u001b[0m \u001b[0mpos\u001b[0m\u001b[0;34m,\u001b[0m \u001b[0mlabels\u001b[0m\u001b[0;34m=\u001b[0m\u001b[0mnode_labels\u001b[0m\u001b[0;34m,\u001b[0m \u001b[0mfont_size\u001b[0m\u001b[0;34m=\u001b[0m\u001b[0;36m12\u001b[0m\u001b[0;34m)\u001b[0m\u001b[0;34m\u001b[0m\u001b[0;34m\u001b[0m\u001b[0m\n\u001b[1;32m     15\u001b[0m \u001b[0;34m\u001b[0m\u001b[0m\n",
      "\u001b[0;31mKeyError\u001b[0m: 'name'"
     ]
    },
    {
     "data": {
      "image/png": "[encoded data removed]",
      "text/plain": [
       "<Figure size 640x480 with 1 Axes>"
      ]
     },
     "metadata": {},
     "output_type": "display_data"
    }
   ],
   "source": [
    "import matplotlib.pyplot as plt\n",
    "\n",
    "# Draw the graph\n",
    "pos = nx.spring_layout(G)  # positions for all nodes\n",
    "\n",
    "# Nodes\n",
    "nx.draw_networkx_nodes(G, pos, node_size=7000, node_color='lightblue', alpha=0.6)\n",
    "\n",
    "# Edges\n",
    "nx.draw_networkx_edges(G, pos, arrowstyle='-|>', arrowsize=20, edge_color='gray', width=2)\n",
    "\n",
    "# Node labels\n",
    "node_labels = {node[0]: node[2]['name'] for node in data['nodes']}\n",
    "nx.draw_networkx_labels(G, pos, labels=node_labels, font_size=12)\n",
    "\n",
    "# Edge labels\n",
    "edge_labels = {(edge[0], edge[2]): edge[1] for edge in data['edges']}\n",
    "nx.draw_networkx_edge_labels(G, pos, edge_labels=edge_labels, font_color='red')\n",
    "\n",
    "plt.title('Graph Visualization')\n",
    "plt.axis('off')  # Turn off the axis\n",
    "plt.show()  # Display the graph"
   ]
  },
  {
   "cell_type": "code",
   "execution_count": 21,
   "id": "83d33254",
   "metadata": {},
   "outputs": [
    {
     "data": {
      "text/plain": [
       "[['Oles Buzina', 'Person', {'source': 'social media', 'type': 'Person'}],\n",
       " ['Vladimir Zhirinovsky',\n",
       "  'Person',\n",
       "  {'source': 'social media', 'type': 'Person'}],\n",
       " ['Vladimir Solovyov', 'Person', {'source': 'social media', 'type': 'Person'}],\n",
       " ['Duel', 'Event', {'source': 'social media', 'type': 'Event'}],\n",
       " ['socio-political topics',\n",
       "  'Topic',\n",
       "  {'source': 'social media', 'type': 'Topic'}]]"
      ]
     },
     "execution_count": 21,
     "metadata": {},
     "output_type": "execute_result"
    }
   ],
   "source": [
    "data['nodes']"
   ]
  },
  {
   "cell_type": "code",
   "execution_count": null,
   "id": "0c907c32",
   "metadata": {},
   "outputs": [],
   "source": []
  }
 ],
 "metadata": {
  "kernelspec": {
   "display_name": "Python 3 (ipykernel)",
   "language": "python",
   "name": "python3"
  },
  "language_info": {
   "codemirror_mode": {
    "name": "ipython",
    "version": 3
   },
   "file_extension": ".py",
   "mimetype": "text/x-python",
   "name": "python",
   "nbconvert_exporter": "python",
   "pygments_lexer": "ipython3",
   "version": "3.9.13"
  }
 },
 "nbformat": 4,
 "nbformat_minor": 5
}
