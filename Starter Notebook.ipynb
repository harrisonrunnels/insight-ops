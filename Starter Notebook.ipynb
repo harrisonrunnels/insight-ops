{
 "cells": [
  {
   "cell_type": "code",
   "execution_count": null,
   "id": "a171868e",
   "metadata": {},
   "outputs": [],
   "source": [
    "%pip install boto3 botocore pandas\n",
    "%pip install openai\n",
    "%pip install networkx\n",
    "%pip install matplotlib"
   ]
  },
  {
   "cell_type": "code",
   "execution_count": null,
   "id": "687fe590",
   "metadata": {},
   "outputs": [],
   "source": [
    "import boto3\n",
    "import pandas as pd\n",
    "from io import BytesIO\n",
    "from botocore import UNSIGNED\n",
    "from botocore.config import Config\n",
    "import os\n",
    "\n",
    "# Load the file content into a pandas DataFrame\n",
    "df_sm = pd.read_csv('russia_social_media.csv')\n",
    "\n",
    "print(df_sm.head())"
   ]
  },
  {
   "cell_type": "markdown",
   "id": "ec23d44e",
   "metadata": {},
   "source": [
    "# Filter Data On Date"
   ]
  },
  {
   "cell_type": "code",
   "execution_count": 11,
   "id": "270f09a3",
   "metadata": {},
   "outputs": [],
   "source": [
    "from datetime import datetime\n",
    "from datetime import timedelta\n",
    "\n",
    "\n",
    "# Convert the 'DateTime' column to datetime\n",
    "df_sm[\"time\"] = pd.to_datetime(df_sm[\"time\"])\n",
    "\n",
    "def generate_range(start_time, frame):\n",
    "    dtStart = datetime.strptime(start_time, '%Y-%m-%d %H:%M:%S')\n",
    "    dtDiff = timedelta(hours=frame[0], minutes=frame[1])\n",
    "    dest = dtStart + dtDiff\n",
    "    return [start_time, dest.strftime('%Y-%m-%d %H:%M:%S')]\n",
    "\n",
    "time_range = generate_range(\"2024-03-31 18:00:00\", [1,30])\n",
    "\n",
    "# Filter the DataFrame based on the defined times\n",
    "filtered_df = df_sm[(df_sm[\"time\"] >= time_range[0]) & (df_sm[\"time\"] <= time_range[1])]\n",
    "indexes_filtered_df = filtered_df[\"translation\"].index"
   ]
  },
  {
   "cell_type": "markdown",
   "id": "74a0085c",
   "metadata": {},
   "source": [
    "# LLM to Process Data"
   ]
  },
  {
   "cell_type": "code",
   "execution_count": 28,
   "id": "6e1adce6",
   "metadata": {},
   "outputs": [
    {
     "name": "stdout",
     "output_type": "stream",
     "text": [
      "{\"subjects\": [[1, \"Oles Buzina\", \"Person\"], [2, \"Vladimir Zhirinovsky\", \"Person\"], [3, \"Vladimir Solovyov\", \"Person\"], [4, \"Duel Talk Show\", \"Event\"], [5, \"Socio-Political Topics\", \"Concept\"]], \"relationships\": [[1, \"participated in\", 4, {\"role\": \"Guest\"}], [2, \"participated in\", 4, {\"role\": \"Guest\"}], [4, \"hosted by\", 3, {}], [4, \"discussed\", 5, {}]]}\n"
     ]
    }
   ],
   "source": [
    "from openai import OpenAI\n",
    "import json\n",
    "\n",
    "# Initialize the OpenAI client with your custom API base URL and API key\n",
    "client = OpenAI(\n",
    "    base_url=\"https://hackathon.radiantai.com/insight-ops/openai\",\n",
    "    api_key=os.environ[\"HACKATHON_API_KEY\"]\n",
    ")\n",
    "\n",
    "# Define the text of a social media post\n",
    "post = filtered_df['translation'][indexes_filtered_df[0]]\n",
    "\n",
    "\n",
    "system_prompt = \"\"\"You are a helpful assistant designed to output JSON.\n",
    "Your task is to extract information from social media posts or announcements and convert it into a graph database.\n",
    "\n",
    "Here is how the graph database works:\n",
    "Every object has a title and it has a type, the title indicates the name of the subject: this can be an person or \"actor\", event, or even concept, just make up a classification that is very standard.\n",
    "Two objects may be related in some way and this may and in this case, you will add them to the relationships list, try to find fitting relationships between related objects. For example, if you create a relationship between a person and an event you can use the relationship \"participated in\" or \"attended\". Or if you have a person and a concept you can use \"knows\" or \"is familiar with\". Or if you have two events you can use \"happened before\" or \"happened after\". Make up a relationship.\n",
    "How you will enter it in to the graph database it as follows:\n",
    "{\n",
    "  \"subjects\": [\n",
    "    [ENTITY_ID: INT, TITLE: STR, TYPE: STR],\n",
    "    [ENTITY_ID: INT, TITLE: STR, TYPE: STR],\n",
    "    ...\n",
    "  ],\n",
    "  \"relationships\": [\n",
    "    [ENTITY_ID_1: INT, RELATIONSHIP: STR, ENTITY_ID_2: INT, PROPERTIES: DICT],\n",
    "    [ENTITY_ID_1: INT, RELATIONSHIP: STR, ENTITY_ID_2: INT, PROPERTIES: DICT],\n",
    "    ...\n",
    "  ]\n",
    "]\n",
    "If you can't pair a relationship with a pair of nodes don't add it.\n",
    "When you find a node or relationship you want to add try to create a generic PROPERTY for it that describes the entity you can also think of it as a label.\"\"\"\n",
    "\n",
    "def analyze(post):\n",
    "    response = client.chat.completions.create(\n",
    "      model=\"gpt-3.5-turbo-0125\",\n",
    "      response_format={ \"type\": \"json_object\" },\n",
    "      messages=[\n",
    "        {\"role\": \"system\", \"content\": system_prompt},\n",
    "        {\"role\": \"user\", \"content\": f\"Here's the post: {post} \\n Make sure to output in a JSON with the top level keys 'nodes' and 'edges'\"}\n",
    "      ]\n",
    "    )\n",
    "\n",
    "    return response.choices[0].message.content\n",
    "\n",
    "data = json.loads(analyze(post))\n",
    "print(json.dumps(data))"
   ]
  },
  {
   "cell_type": "markdown",
   "id": "3b7bd69e",
   "metadata": {},
   "source": [
    "# Construction of the Graph"
   ]
  },
  {
   "cell_type": "code",
   "execution_count": 22,
   "id": "d14fb10f",
   "metadata": {},
   "outputs": [
    {
     "name": "stdout",
     "output_type": "stream",
     "text": [
      "Nodes in the graph:\n",
      "[('Oles Buzina', {'type': 'Person'}), ('Vladimir Zhirinovsky', {'type': 'Person'}), ('Vladimir Solovyov', {'type': 'Person'}), ('Talk Show', {'type': 'Entity'}), ('Socio-Political Topics', {'type': 'Topic'}), ('Website', {'url': 'www.buz...', 'type': 'Entity'})]\n",
      "Edges in the graph:\n",
      "[('Oles Buzina', 'Talk Show', {'relation': 'PARTICIPATED_IN'}), ('Vladimir Zhirinovsky', 'Talk Show', {'relation': 'PARTICIPATED_IN'}), ('Vladimir Solovyov', 'Talk Show', {'relation': 'HOSTED'}), ('Talk Show', 'Socio-Political Topics', {'relation': 'DISCUSSING'}), ('Website', 'Oles Buzina', {'relation': 'MENTIONS'}), ('Website', 'Vladimir Zhirinovsky', {'relation': 'MENTIONS'}), ('Website', 'Vladimir Solovyov', {'relation': 'MENTIONS'})]\n"
     ]
    }
   ],
   "source": [
    "import networkx as nx\n",
    "# Create a directed graph\n",
    "G = nx.DiGraph()\n",
    "\n",
    "\n",
    "# Add nodes\n",
    "for node in data['subjects']:\n",
    "    node_id = node[0]\n",
    "    node_type = node[1]\n",
    "    attributes = node[2]\n",
    "    attributes['type'] = node_type  # Add the type as an attribute\n",
    "    G.add_node(node_id, **attributes)\n",
    "\n",
    "# Add edges\n",
    "for edge in data['relationships']:\n",
    "    source = edge[0]\n",
    "    relation = edge[1]\n",
    "    target = edge[2]\n",
    "    # Add the relation type as an attribute\n",
    "    G.add_edge(source, target,relation = relation)\n",
    "\n",
    "# Display the graph\n",
    "print(\"Nodes in the graph:\")\n",
    "print(G.nodes(data=True))\n",
    "\n",
    "print(\"Edges in the graph:\")\n",
    "print(G.edges(data=True))"
   ]
  },
  {
   "cell_type": "markdown",
   "id": "670ce5db",
   "metadata": {},
   "source": [
    "# Viz"
   ]
  },
  {
   "cell_type": "code",
   "execution_count": 23,
   "id": "a1ae8e4e",
   "metadata": {},
   "outputs": [
    {
     "ename": "KeyError",
     "evalue": "'name'",
     "output_type": "error",
     "traceback": [
      "\u001b[0;31m---------------------------------------------------------------------------\u001b[0m",
      "\u001b[0;31mKeyError\u001b[0m                                  Traceback (most recent call last)",
      "Cell \u001b[0;32mIn [23], line 13\u001b[0m\n\u001b[1;32m     10\u001b[0m nx\u001b[38;5;241m.\u001b[39mdraw_networkx_edges(G, pos, arrowstyle\u001b[38;5;241m=\u001b[39m\u001b[38;5;124m'\u001b[39m\u001b[38;5;124m-|>\u001b[39m\u001b[38;5;124m'\u001b[39m, arrowsize\u001b[38;5;241m=\u001b[39m\u001b[38;5;241m20\u001b[39m, edge_color\u001b[38;5;241m=\u001b[39m\u001b[38;5;124m'\u001b[39m\u001b[38;5;124mgray\u001b[39m\u001b[38;5;124m'\u001b[39m, width\u001b[38;5;241m=\u001b[39m\u001b[38;5;241m2\u001b[39m)\n\u001b[1;32m     12\u001b[0m \u001b[38;5;66;03m# Node labels\u001b[39;00m\n\u001b[0;32m---> 13\u001b[0m node_labels \u001b[38;5;241m=\u001b[39m {node[\u001b[38;5;241m0\u001b[39m]: node[\u001b[38;5;241m2\u001b[39m][\u001b[38;5;124m'\u001b[39m\u001b[38;5;124mname\u001b[39m\u001b[38;5;124m'\u001b[39m] \u001b[38;5;28;01mfor\u001b[39;00m node \u001b[38;5;129;01min\u001b[39;00m data[\u001b[38;5;124m'\u001b[39m\u001b[38;5;124mnodes\u001b[39m\u001b[38;5;124m'\u001b[39m]}\n\u001b[1;32m     14\u001b[0m nx\u001b[38;5;241m.\u001b[39mdraw_networkx_labels(G, pos, labels\u001b[38;5;241m=\u001b[39mnode_labels, font_size\u001b[38;5;241m=\u001b[39m\u001b[38;5;241m12\u001b[39m)\n\u001b[1;32m     16\u001b[0m \u001b[38;5;66;03m# Edge labels\u001b[39;00m\n",
      "Cell \u001b[0;32mIn [23], line 13\u001b[0m, in \u001b[0;36m<dictcomp>\u001b[0;34m(.0)\u001b[0m\n\u001b[1;32m     10\u001b[0m nx\u001b[38;5;241m.\u001b[39mdraw_networkx_edges(G, pos, arrowstyle\u001b[38;5;241m=\u001b[39m\u001b[38;5;124m'\u001b[39m\u001b[38;5;124m-|>\u001b[39m\u001b[38;5;124m'\u001b[39m, arrowsize\u001b[38;5;241m=\u001b[39m\u001b[38;5;241m20\u001b[39m, edge_color\u001b[38;5;241m=\u001b[39m\u001b[38;5;124m'\u001b[39m\u001b[38;5;124mgray\u001b[39m\u001b[38;5;124m'\u001b[39m, width\u001b[38;5;241m=\u001b[39m\u001b[38;5;241m2\u001b[39m)\n\u001b[1;32m     12\u001b[0m \u001b[38;5;66;03m# Node labels\u001b[39;00m\n\u001b[0;32m---> 13\u001b[0m node_labels \u001b[38;5;241m=\u001b[39m {node[\u001b[38;5;241m0\u001b[39m]: \u001b[43mnode\u001b[49m\u001b[43m[\u001b[49m\u001b[38;5;241;43m2\u001b[39;49m\u001b[43m]\u001b[49m\u001b[43m[\u001b[49m\u001b[38;5;124;43m'\u001b[39;49m\u001b[38;5;124;43mname\u001b[39;49m\u001b[38;5;124;43m'\u001b[39;49m\u001b[43m]\u001b[49m \u001b[38;5;28;01mfor\u001b[39;00m node \u001b[38;5;129;01min\u001b[39;00m data[\u001b[38;5;124m'\u001b[39m\u001b[38;5;124mnodes\u001b[39m\u001b[38;5;124m'\u001b[39m]}\n\u001b[1;32m     14\u001b[0m nx\u001b[38;5;241m.\u001b[39mdraw_networkx_labels(G, pos, labels\u001b[38;5;241m=\u001b[39mnode_labels, font_size\u001b[38;5;241m=\u001b[39m\u001b[38;5;241m12\u001b[39m)\n\u001b[1;32m     16\u001b[0m \u001b[38;5;66;03m# Edge labels\u001b[39;00m\n",
      "\u001b[0;31mKeyError\u001b[0m: 'name'"
     ]
    },
    {
     "data": {
      "image/png": "[encoded data removed]",
      "text/plain": [
       "<Figure size 640x480 with 1 Axes>"
      ]
     },
     "metadata": {},
     "output_type": "display_data"
    }
   ],
   "source": [
    "import matplotlib.pyplot as plt\n",
    "\n",
    "# Draw the graph\n",
    "pos = nx.spring_layout(G)  # positions for all nodes\n",
    "\n",
    "# Nodes\n",
    "nx.draw_networkx_nodes(G, pos, node_size=7000, node_color='lightblue', alpha=0.6)\n",
    "\n",
    "# Edges\n",
    "nx.draw_networkx_edges(G, pos, arrowstyle='-|>', arrowsize=20, edge_color='gray', width=2)\n",
    "\n",
    "# Node labels\n",
    "node_labels = {node[0]: node[2]['name'] for node in data['nodes']}\n",
    "nx.draw_networkx_labels(G, pos, labels=node_labels, font_size=12)\n",
    "\n",
    "# Edge labels\n",
    "edge_labels = {(edge[0], edge[2]): edge[1] for edge in data['edges']}\n",
    "nx.draw_networkx_edge_labels(G, pos, edge_labels=edge_labels, font_color='red')\n",
    "\n",
    "plt.title('Graph Visualization')\n",
    "plt.axis('off')  # Turn off the axis\n",
    "plt.show()  # Display the graph"
   ]
  },
  {
   "cell_type": "code",
   "execution_count": 21,
   "id": "83d33254",
   "metadata": {},
   "outputs": [
    {
     "data": {
      "text/plain": [
       "[['Oles Buzina', 'Person', {'source': 'social media', 'type': 'Person'}],\n",
       " ['Vladimir Zhirinovsky',\n",
       "  'Person',\n",
       "  {'source': 'social media', 'type': 'Person'}],\n",
       " ['Vladimir Solovyov', 'Person', {'source': 'social media', 'type': 'Person'}],\n",
       " ['Duel', 'Event', {'source': 'social media', 'type': 'Event'}],\n",
       " ['socio-political topics',\n",
       "  'Topic',\n",
       "  {'source': 'social media', 'type': 'Topic'}]]"
      ]
     },
     "execution_count": 21,
     "metadata": {},
     "output_type": "execute_result"
    }
   ],
   "source": [
    "data['nodes']"
   ]
  },
  {
   "cell_type": "code",
   "execution_count": null,
   "id": "0c907c32",
   "metadata": {},
   "outputs": [],
   "source": []
  }
 ],
 "metadata": {
  "kernelspec": {
   "display_name": "Python 3 (ipykernel)",
   "language": "python",
   "name": "python3"
  },
  "language_info": {
   "codemirror_mode": {
    "name": "ipython",
    "version": 3
   },
   "file_extension": ".py",
   "mimetype": "text/x-python",
   "name": "python",
   "nbconvert_exporter": "python",
   "pygments_lexer": "ipython3",
   "version": "3.9.6"
  }
 },
 "nbformat": 4,
 "nbformat_minor": 5
}
