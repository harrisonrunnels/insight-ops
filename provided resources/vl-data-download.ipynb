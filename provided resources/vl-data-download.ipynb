{
 "cells": [
  {
   "cell_type": "markdown",
   "id": "f74fe9bc-1ab6-4b4b-a2d2-8f6cc53858a1",
   "metadata": {},
   "source": [
    "# Vannevar Labs Dataset for NatSec Hackathon 2024"
   ]
  },
  {
   "cell_type": "markdown",
   "id": "b928fbf7-6d4a-43e3-b978-37a668b4ab75",
   "metadata": {},
   "source": [
    "Thanks for participating in the hackathon! This notebook is available at https://vl-nat-sec-hackathon-may-2024.s3.us-east-2.amazonaws.com/vl-data-download.ipynb, and we will be updating it over the course of the week with additional data and resources.\n",
    "\n",
    "The dataset we are providing are of Russian social media posts from Telegram and VK that are related to current geopolitical events, a lot of them specifically about events occurring in Ukraine. The data in `attachment_urls` are media files that we will be providing in the same s3 bucket later this week.\n",
    "\n",
    "If there are any issues with data access please email charu@vannevarlabs.com"
   ]
  },
  {
   "cell_type": "code",
   "execution_count": null,
   "id": "4b4a30f3-9a27-40cc-9c6c-9cf40140d98c",
   "metadata": {
    "tags": []
   },
   "outputs": [],
   "source": [
    "!pip install boto3 botocore pandas"
   ]
  },
  {
   "cell_type": "code",
   "execution_count": null,
   "id": "88a135e1-30c3-4ffb-988d-2b0590349b7a",
   "metadata": {
    "tags": []
   },
   "outputs": [],
   "source": [
    "import boto3\n",
    "import pandas as pd\n",
    "from io import BytesIO\n",
    "from botocore import UNSIGNED\n",
    "from botocore.config import Config\n",
    "\n",
    "\n",
    "# # Create a boto3 session with an anonymous user\n",
    "# s3 = boto3.client('s3', config=Config(signature_version=UNSIGNED))\n",
    "\n",
    "# bucket_name = 'vl-nat-sec-hackathon-may-2024'\n",
    "# file_key = 'russia_social_media.csv'\n",
    "\n",
    "# # Get the object from S3\n",
    "# response = s3.get_object(Bucket=bucket_name, Key=file_key)\n",
    "\n",
    "# file_content = response['Body'].read()\n",
    "\n",
    "# Also available here: https://vl-nat-sec-hackathon-may-2024.s3.us-east-2.amazonaws.com/russia_social_media.csv\n",
    "\n"
   ]
  },
  {
   "cell_type": "code",
   "execution_count": 40,
   "id": "fc8ad7c1-9e9b-4062-8799-909e363fb555",
   "metadata": {
    "tags": []
   },
   "outputs": [
    {
     "name": "stdout",
     "output_type": "stream",
     "text": [
      "                                     id                 time   \n",
      "0  0007ed21-eb78-597d-9558-9dfa4f75ed3e  2024-03-31 18:19:25  \\\n",
      "1  0009a799-5b15-5468-98df-9e948518c786  2024-03-31 07:00:20   \n",
      "2  000fea05-105e-589a-ad1e-9901e6594e86  2024-03-31 09:04:00   \n",
      "3  0012d254-46b1-5d52-ad6e-b6a8bf7b8fc7  2024-03-31 06:22:18   \n",
      "4  00194b54-be02-5a6d-a961-b9be56f22a54  2024-03-31 17:36:03   \n",
      "\n",
      "                                                body   \n",
      "0  https://youtu.be/1H65fWYoaV8?si=sFwduH6AodNglB...  \\\n",
      "1  🇷🇺🇺🇦Последствия обстрела жилых домой Белгорода...   \n",
      "2  \"ТАРЕЛОЧКИ\" У НАС.\\nДорогие подписчики! Делимс...   \n",
      "3  На Камчатке в соединении кораблей охраны водно...   \n",
      "4  Как устраняли предателя КузьминоваТрусливого п...   \n",
      "\n",
      "                                         translation   \n",
      "0  https://youtu.be/1H65fWYoaV8?si=sFwduH6AodNglB...  \\\n",
      "1  🇷🇺🇺🇦The consequences of shelling of residentia...   \n",
      "2  WE HAVE \"PLATES\".\\nDear subscribers! We share ...   \n",
      "3  In Kamchatka, a formation of ships guarding th...   \n",
      "4  How the traitor Kuzminov was eliminated. The c...   \n",
      "\n",
      "                        external_url profile_type   \n",
      "0           https://t.me/openukraine     telegram  \\\n",
      "1  https://t.me/warhistoryalconafter     telegram   \n",
      "2     https://vk.com/public216233091           vk   \n",
      "3          https://t.me/navyofrussia     telegram   \n",
      "4                https://t.me/swodki     telegram   \n",
      "\n",
      "                                         description   \n",
      "0  A Telegram channel aggressively spreading Ukra...  \\\n",
      "1     The Telegram channel of a Russian mil-blogger.   \n",
      "2  Russian volunteer support group for war effort...   \n",
      "3  A Telegram channel affiliated with the Russian...   \n",
      "4  A generic Telegram account that echoes Kremlin...   \n",
      "\n",
      "                                                name   \n",
      "0                                        OpenUkraine  \\\n",
      "1                               warhistoryalconafter   \n",
      "2  Assistance to the Military at the Northern Mil...   \n",
      "3                                       NavyOfRussia   \n",
      "4                                             swodki   \n",
      "\n",
      "                                     attachment_urls  \n",
      "0  media/telegram-web/157cfb52-f4b1-407c-ad3f-6a3...  \n",
      "1  media/telegram-web/0020f774-680c-4453-b17b-a5e...  \n",
      "2  media/vk/40a8eec7-913a-4bed-9ce7-d59ee5d02093....  \n",
      "3  media/telegram-web/b108cbdf-83ef-4a9f-8027-a39...  \n",
      "4  media/telegram-web/77af5086-db38-470b-9880-0ee...  \n"
     ]
    }
   ],
   "source": [
    "# Load the file content into a pandas DataFrame\n",
    "data = pd.read_csv('/path/to/russia_social_media.csv')\n",
    "\n",
    "print(data.head())"
   ]
  },
  {
   "cell_type": "code",
   "execution_count": 1,
   "id": "db9c432c-3414-48af-aa03-86120790268f",
   "metadata": {
    "tags": []
   },
   "outputs": [],
   "source": [
    "# In the same way, you can access the images in attachment_urls using s3.get_object - the urls should be 1-1 with the paths in s3\n",
    "\n",
    "# s3 = boto3.client('s3', config=Config(signature_version=UNSIGNED))\n",
    "\n",
    "# bucket_name = 'vl-nat-sec-hackathon-may-2024'\n",
    "# file_key = 'media/telegram-web/...'\n",
    "\n",
    "# # Get the object from S3\n",
    "# response = s3.get_object(Bucket=bucket_name, Key=file_key)\n"
   ]
  }
 ],
 "metadata": {
  "kernelspec": {
   "display_name": "Python 3 (ipykernel)",
   "language": "python",
   "name": "python3"
  },
  "language_info": {
   "codemirror_mode": {
    "name": "ipython",
    "version": 3
   },
   "file_extension": ".py",
   "mimetype": "text/x-python",
   "name": "python",
   "nbconvert_exporter": "python",
   "pygments_lexer": "ipython3",
   "version": "3.10.9"
  }
 },
 "nbformat": 4,
 "nbformat_minor": 5
}
